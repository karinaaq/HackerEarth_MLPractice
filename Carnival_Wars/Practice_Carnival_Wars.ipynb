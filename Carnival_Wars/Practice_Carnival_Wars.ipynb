{
 "cells": [
  {
   "cell_type": "code",
   "execution_count": 135,
   "id": "cefd8b77",
   "metadata": {},
   "outputs": [],
   "source": [
    "import pandas as pd\n",
    "import numpy as np\n",
    "train  = pd.read_csv(r\"./train.csv\")\n",
    "test = pd.read_csv(r\"./test.csv\")"
   ]
  },
  {
   "cell_type": "markdown",
   "id": "51057811",
   "metadata": {},
   "source": [
    "#### Your task is to predict the selling price of the products based on the provided features. "
   ]
  },
  {
   "cell_type": "code",
   "execution_count": 136,
   "id": "520fb27c",
   "metadata": {},
   "outputs": [
    {
     "name": "stdout",
     "output_type": "stream",
     "text": [
      "<class 'pandas.core.frame.DataFrame'>\n",
      "RangeIndex: 6368 entries, 0 to 6367\n",
      "Data columns (total 15 columns):\n",
      " #   Column            Non-Null Count  Dtype  \n",
      "---  ------            --------------  -----  \n",
      " 0   Product_id        6368 non-null   object \n",
      " 1   Stall_no          6363 non-null   float64\n",
      " 2   instock_date      6368 non-null   object \n",
      " 3   Market_Category   6368 non-null   int64  \n",
      " 4   Customer_name     6157 non-null   object \n",
      " 5   Loyalty_customer  6368 non-null   object \n",
      " 6   Product_Category  6368 non-null   object \n",
      " 7   Grade             6368 non-null   int64  \n",
      " 8   Demand            6368 non-null   int64  \n",
      " 9   Discount_avail    6330 non-null   float64\n",
      " 10  charges_1         6170 non-null   float64\n",
      " 11  charges_2 (%)     6163 non-null   float64\n",
      " 12  Minimum_price     6330 non-null   float64\n",
      " 13  Maximum_price     6025 non-null   float64\n",
      " 14  Selling_Price     6327 non-null   float64\n",
      "dtypes: float64(7), int64(3), object(5)\n",
      "memory usage: 746.4+ KB\n"
     ]
    }
   ],
   "source": [
    "train.info()"
   ]
  },
  {
   "cell_type": "code",
   "execution_count": 137,
   "id": "b02d48c8",
   "metadata": {},
   "outputs": [],
   "source": [
    "# Vamos a separar la fecha para ver si influye en algo\n",
    "# For train data\n",
    "train['instock_date']= pd.to_datetime(train['instock_date'])\n",
    "train['year'] = train['instock_date'].dt.year\n",
    "train['month'] =  train['instock_date'].dt.month\n",
    "train['quarter'] = train['instock_date'].dt.quarter\n",
    "train['day of the week'] = train['instock_date'].dt.dayofweek # Monday = 0 & Sunday = 6\n",
    "train['Dayofyear'] = train['instock_date'].dt.dayofyear\n",
    "train[\"hour\"] = train['instock_date'].dt.hour"
   ]
  },
  {
   "cell_type": "code",
   "execution_count": 138,
   "id": "3491d081",
   "metadata": {},
   "outputs": [],
   "source": [
    "# For test data\n",
    "test['instock_date']= pd.to_datetime(test['instock_date'])\n",
    "test['year'] = test['instock_date'].dt.year\n",
    "test['month'] =  test['instock_date'].dt.month\n",
    "test['quarter'] = test['instock_date'].dt.quarter\n",
    "test['day of the week'] = test['instock_date'].dt.dayofweek # Monday = 0 & Sunday = 6\n",
    "test['Dayofyear'] = test['instock_date'].dt.dayofyear\n",
    "test[\"hour\"] = test['instock_date'].dt.hour"
   ]
  },
  {
   "cell_type": "code",
   "execution_count": 139,
   "id": "ab70b969",
   "metadata": {},
   "outputs": [
    {
     "data": {
      "text/html": [
       "<div>\n",
       "<style scoped>\n",
       "    .dataframe tbody tr th:only-of-type {\n",
       "        vertical-align: middle;\n",
       "    }\n",
       "\n",
       "    .dataframe tbody tr th {\n",
       "        vertical-align: top;\n",
       "    }\n",
       "\n",
       "    .dataframe thead th {\n",
       "        text-align: right;\n",
       "    }\n",
       "</style>\n",
       "<table border=\"1\" class=\"dataframe\">\n",
       "  <thead>\n",
       "    <tr style=\"text-align: right;\">\n",
       "      <th></th>\n",
       "      <th>Product_id</th>\n",
       "      <th>Stall_no</th>\n",
       "      <th>instock_date</th>\n",
       "      <th>Market_Category</th>\n",
       "      <th>Customer_name</th>\n",
       "      <th>Loyalty_customer</th>\n",
       "      <th>Product_Category</th>\n",
       "      <th>Grade</th>\n",
       "      <th>Demand</th>\n",
       "      <th>Discount_avail</th>\n",
       "      <th>...</th>\n",
       "      <th>charges_2 (%)</th>\n",
       "      <th>Minimum_price</th>\n",
       "      <th>Maximum_price</th>\n",
       "      <th>Selling_Price</th>\n",
       "      <th>year</th>\n",
       "      <th>month</th>\n",
       "      <th>quarter</th>\n",
       "      <th>day of the week</th>\n",
       "      <th>Dayofyear</th>\n",
       "      <th>hour</th>\n",
       "    </tr>\n",
       "  </thead>\n",
       "  <tbody>\n",
       "    <tr>\n",
       "      <th>0</th>\n",
       "      <td>BRAE2NF6JA5GUEXG</td>\n",
       "      <td>37.0</td>\n",
       "      <td>2015-08-22 18:36:12</td>\n",
       "      <td>2</td>\n",
       "      <td>Lillyann</td>\n",
       "      <td>Yes</td>\n",
       "      <td>Fashion</td>\n",
       "      <td>1</td>\n",
       "      <td>68</td>\n",
       "      <td>0.0</td>\n",
       "      <td>...</td>\n",
       "      <td>11.0</td>\n",
       "      <td>2983.0</td>\n",
       "      <td>4713.0</td>\n",
       "      <td>4185.947700</td>\n",
       "      <td>2015</td>\n",
       "      <td>8</td>\n",
       "      <td>3</td>\n",
       "      <td>5</td>\n",
       "      <td>234</td>\n",
       "      <td>18</td>\n",
       "    </tr>\n",
       "    <tr>\n",
       "      <th>1</th>\n",
       "      <td>TUNE8SFB6RJN2HSD</td>\n",
       "      <td>38.0</td>\n",
       "      <td>2016-03-27 21:19:13</td>\n",
       "      <td>24</td>\n",
       "      <td>Klynn</td>\n",
       "      <td>Yes</td>\n",
       "      <td>Fashion</td>\n",
       "      <td>0</td>\n",
       "      <td>51</td>\n",
       "      <td>0.0</td>\n",
       "      <td>...</td>\n",
       "      <td>12.0</td>\n",
       "      <td>7495.0</td>\n",
       "      <td>10352.0</td>\n",
       "      <td>9271.490256</td>\n",
       "      <td>2016</td>\n",
       "      <td>3</td>\n",
       "      <td>1</td>\n",
       "      <td>6</td>\n",
       "      <td>87</td>\n",
       "      <td>21</td>\n",
       "    </tr>\n",
       "    <tr>\n",
       "      <th>2</th>\n",
       "      <td>BRAEAR7WZPQGPBZU</td>\n",
       "      <td>9.0</td>\n",
       "      <td>2015-08-18 19:25:22</td>\n",
       "      <td>447</td>\n",
       "      <td>Ridge</td>\n",
       "      <td>Yes</td>\n",
       "      <td>Child_care</td>\n",
       "      <td>0</td>\n",
       "      <td>10</td>\n",
       "      <td>0.0</td>\n",
       "      <td>...</td>\n",
       "      <td>9.0</td>\n",
       "      <td>5752.0</td>\n",
       "      <td>7309.0</td>\n",
       "      <td>6785.701362</td>\n",
       "      <td>2015</td>\n",
       "      <td>8</td>\n",
       "      <td>3</td>\n",
       "      <td>1</td>\n",
       "      <td>230</td>\n",
       "      <td>19</td>\n",
       "    </tr>\n",
       "    <tr>\n",
       "      <th>3</th>\n",
       "      <td>WATDZ2ZQ8JPDHCTJ</td>\n",
       "      <td>50.0</td>\n",
       "      <td>2016-03-28 21:53:01</td>\n",
       "      <td>23</td>\n",
       "      <td>Abran</td>\n",
       "      <td>Yes</td>\n",
       "      <td>Educational</td>\n",
       "      <td>2</td>\n",
       "      <td>48</td>\n",
       "      <td>0.0</td>\n",
       "      <td>...</td>\n",
       "      <td>13.0</td>\n",
       "      <td>5090.0</td>\n",
       "      <td>20814.0</td>\n",
       "      <td>13028.917824</td>\n",
       "      <td>2016</td>\n",
       "      <td>3</td>\n",
       "      <td>1</td>\n",
       "      <td>0</td>\n",
       "      <td>88</td>\n",
       "      <td>21</td>\n",
       "    </tr>\n",
       "    <tr>\n",
       "      <th>4</th>\n",
       "      <td>JWSEBUKYQPMBZ3RK</td>\n",
       "      <td>7.0</td>\n",
       "      <td>2016-03-29 22:58:53</td>\n",
       "      <td>63</td>\n",
       "      <td>Dustyn</td>\n",
       "      <td>Yes</td>\n",
       "      <td>Repair</td>\n",
       "      <td>1</td>\n",
       "      <td>35</td>\n",
       "      <td>1.0</td>\n",
       "      <td>...</td>\n",
       "      <td>4.0</td>\n",
       "      <td>2430.0</td>\n",
       "      <td>9261.0</td>\n",
       "      <td>906.553935</td>\n",
       "      <td>2016</td>\n",
       "      <td>3</td>\n",
       "      <td>1</td>\n",
       "      <td>1</td>\n",
       "      <td>89</td>\n",
       "      <td>22</td>\n",
       "    </tr>\n",
       "  </tbody>\n",
       "</table>\n",
       "<p>5 rows × 21 columns</p>\n",
       "</div>"
      ],
      "text/plain": [
       "         Product_id  Stall_no        instock_date  Market_Category  \\\n",
       "0  BRAE2NF6JA5GUEXG      37.0 2015-08-22 18:36:12                2   \n",
       "1  TUNE8SFB6RJN2HSD      38.0 2016-03-27 21:19:13               24   \n",
       "2  BRAEAR7WZPQGPBZU       9.0 2015-08-18 19:25:22              447   \n",
       "3  WATDZ2ZQ8JPDHCTJ      50.0 2016-03-28 21:53:01               23   \n",
       "4  JWSEBUKYQPMBZ3RK       7.0 2016-03-29 22:58:53               63   \n",
       "\n",
       "  Customer_name Loyalty_customer Product_Category  Grade  Demand  \\\n",
       "0      Lillyann              Yes          Fashion      1      68   \n",
       "1         Klynn              Yes          Fashion      0      51   \n",
       "2         Ridge              Yes       Child_care      0      10   \n",
       "3         Abran              Yes      Educational      2      48   \n",
       "4        Dustyn              Yes           Repair      1      35   \n",
       "\n",
       "   Discount_avail  ...  charges_2 (%)  Minimum_price  Maximum_price  \\\n",
       "0             0.0  ...           11.0         2983.0         4713.0   \n",
       "1             0.0  ...           12.0         7495.0        10352.0   \n",
       "2             0.0  ...            9.0         5752.0         7309.0   \n",
       "3             0.0  ...           13.0         5090.0        20814.0   \n",
       "4             1.0  ...            4.0         2430.0         9261.0   \n",
       "\n",
       "   Selling_Price  year  month  quarter  day of the week  Dayofyear  hour  \n",
       "0    4185.947700  2015      8        3                5        234    18  \n",
       "1    9271.490256  2016      3        1                6         87    21  \n",
       "2    6785.701362  2015      8        3                1        230    19  \n",
       "3   13028.917824  2016      3        1                0         88    21  \n",
       "4     906.553935  2016      3        1                1         89    22  \n",
       "\n",
       "[5 rows x 21 columns]"
      ]
     },
     "execution_count": 139,
     "metadata": {},
     "output_type": "execute_result"
    }
   ],
   "source": [
    "train.head()"
   ]
  },
  {
   "cell_type": "code",
   "execution_count": 140,
   "id": "e77beb24",
   "metadata": {},
   "outputs": [
    {
     "name": "stdout",
     "output_type": "stream",
     "text": [
      "Cantidad de valores unicos:\n",
      "\n"
     ]
    },
    {
     "data": {
      "text/plain": [
       "Product_id          6368\n",
       "Stall_no              50\n",
       "instock_date        5350\n",
       "Market_Category      248\n",
       "Customer_name       5900\n",
       "Loyalty_customer       2\n",
       "Product_Category      10\n",
       "Grade                  4\n",
       "Demand               100\n",
       "Discount_avail         2\n",
       "charges_1            487\n",
       "charges_2 (%)         17\n",
       "Minimum_price       4236\n",
       "Maximum_price       4618\n",
       "Selling_Price       6321\n",
       "year                   3\n",
       "month                 11\n",
       "quarter                4\n",
       "day of the week        7\n",
       "Dayofyear            214\n",
       "hour                  24\n",
       "dtype: int64"
      ]
     },
     "execution_count": 140,
     "metadata": {},
     "output_type": "execute_result"
    }
   ],
   "source": [
    "print(\"Cantidad de valores unicos:\\n\")\n",
    "train.nunique()"
   ]
  },
  {
   "cell_type": "code",
   "execution_count": 141,
   "id": "b3c0d61e",
   "metadata": {},
   "outputs": [
    {
     "name": "stdout",
     "output_type": "stream",
     "text": [
      "971 filas tienen valores perdidos en train\n",
      "106 filas tienen valores perdidos en test\n"
     ]
    }
   ],
   "source": [
    "nans = train.shape[0] - train.dropna().shape[0]\n",
    "print (\"%d filas tienen valores perdidos en train\" %nans)\n",
    "\n",
    "nand = test.shape[0] - test.dropna().shape[0]\n",
    "print (\"%d filas tienen valores perdidos en test\" %nand)"
   ]
  },
  {
   "cell_type": "code",
   "execution_count": 142,
   "id": "1dd071a0",
   "metadata": {},
   "outputs": [
    {
     "name": "stdout",
     "output_type": "stream",
     "text": [
      "Distribucion en Market_Category:\n",
      "\n"
     ]
    },
    {
     "data": {
      "text/html": [
       "<div>\n",
       "<style scoped>\n",
       "    .dataframe tbody tr th:only-of-type {\n",
       "        vertical-align: middle;\n",
       "    }\n",
       "\n",
       "    .dataframe tbody tr th {\n",
       "        vertical-align: top;\n",
       "    }\n",
       "\n",
       "    .dataframe thead th {\n",
       "        text-align: right;\n",
       "    }\n",
       "</style>\n",
       "<table border=\"1\" class=\"dataframe\">\n",
       "  <thead>\n",
       "    <tr style=\"text-align: right;\">\n",
       "      <th>col_0</th>\n",
       "      <th>count</th>\n",
       "    </tr>\n",
       "    <tr>\n",
       "      <th>Market_Category</th>\n",
       "      <th></th>\n",
       "    </tr>\n",
       "  </thead>\n",
       "  <tbody>\n",
       "    <tr>\n",
       "      <th>23</th>\n",
       "      <td>326</td>\n",
       "    </tr>\n",
       "    <tr>\n",
       "      <th>452</th>\n",
       "      <td>323</td>\n",
       "    </tr>\n",
       "    <tr>\n",
       "      <th>358</th>\n",
       "      <td>271</td>\n",
       "    </tr>\n",
       "    <tr>\n",
       "      <th>55</th>\n",
       "      <td>249</td>\n",
       "    </tr>\n",
       "    <tr>\n",
       "      <th>3</th>\n",
       "      <td>239</td>\n",
       "    </tr>\n",
       "    <tr>\n",
       "      <th>...</th>\n",
       "      <td>...</td>\n",
       "    </tr>\n",
       "    <tr>\n",
       "      <th>239</th>\n",
       "      <td>1</td>\n",
       "    </tr>\n",
       "    <tr>\n",
       "      <th>248</th>\n",
       "      <td>1</td>\n",
       "    </tr>\n",
       "    <tr>\n",
       "      <th>255</th>\n",
       "      <td>1</td>\n",
       "    </tr>\n",
       "    <tr>\n",
       "      <th>67</th>\n",
       "      <td>1</td>\n",
       "    </tr>\n",
       "    <tr>\n",
       "      <th>54</th>\n",
       "      <td>1</td>\n",
       "    </tr>\n",
       "  </tbody>\n",
       "</table>\n",
       "<p>248 rows × 1 columns</p>\n",
       "</div>"
      ],
      "text/plain": [
       "col_0            count\n",
       "Market_Category       \n",
       "23                 326\n",
       "452                323\n",
       "358                271\n",
       "55                 249\n",
       "3                  239\n",
       "...                ...\n",
       "239                  1\n",
       "248                  1\n",
       "255                  1\n",
       "67                   1\n",
       "54                   1\n",
       "\n",
       "[248 rows x 1 columns]"
      ]
     },
     "execution_count": 142,
     "metadata": {},
     "output_type": "execute_result"
    }
   ],
   "source": [
    "print(\"Distribucion en Market_Category:\\n\")\n",
    "def frequency_table(data, column):\n",
    "    return pd.crosstab(index=data[column],columns=\"count\").sort_values(by = \"count\", ascending = False)\n",
    "\n",
    "freq_tab = frequency_table(train, \"Market_Category\")\n",
    "freq_tab"
   ]
  },
  {
   "cell_type": "code",
   "execution_count": 143,
   "id": "99bcb948",
   "metadata": {},
   "outputs": [
    {
     "name": "stdout",
     "output_type": "stream",
     "text": [
      "The samples having unique categories would not contribute much\n"
     ]
    },
    {
     "data": {
      "image/png": "[encoded data removed]",
      "text/plain": [
       "<Figure size 640x480 with 1 Axes>"
      ]
     },
     "metadata": {},
     "output_type": "display_data"
    }
   ],
   "source": [
    "\n",
    "%matplotlib inline\n",
    "freq_tab[freq_tab[\"count\"] > 40].hist()\n",
    "print(\"The samples having unique categories would not contribute much\")"
   ]
  },
  {
   "cell_type": "code",
   "execution_count": 144,
   "id": "f1648c58",
   "metadata": {},
   "outputs": [],
   "source": [
    "train = train[train['Selling_Price'].notna()]"
   ]
  },
  {
   "cell_type": "code",
   "execution_count": 145,
   "id": "caf31e8c",
   "metadata": {},
   "outputs": [],
   "source": [
    "# After applying Label Encoding to categorical columns: train['Customer_name'], train['Loyalty_customer'], train['Product_Category']\n",
    "\n",
    "from sklearn import preprocessing \n",
    "label_encoder = preprocessing.LabelEncoder() \n",
    "\n",
    "# Encode labels in column 'Loyalty_customer'. \n",
    "train['Loyalty_customer']= label_encoder.fit_transform(train['Loyalty_customer']) \n",
    "\n",
    "# Encode labels in column 'Product_Category'. \n",
    "train['Product_Category']= label_encoder.fit_transform(train['Product_Category']) "
   ]
  },
  {
   "cell_type": "code",
   "execution_count": 146,
   "id": "beea8c1f",
   "metadata": {},
   "outputs": [],
   "source": [
    "data_train = train.drop(['Product_id', 'instock_date','Customer_name', 'Loyalty_customer'], axis=1)"
   ]
  },
  {
   "cell_type": "code",
   "execution_count": 147,
   "id": "ef9c4e28",
   "metadata": {},
   "outputs": [
    {
     "name": "stdout",
     "output_type": "stream",
     "text": [
      "Este grafico es interesante porque muestra la correlacion de las variables, mientras mas cerca este del 1 mas se correlacionan, en este caso tenemos a Discount-SellingPrice, Maximun-Minimun-SellingPrice. Tambien se ve que el dia o fecha no tiene mucho impacto\n"
     ]
    },
    {
     "data": {
      "text/html": [
       "<div>\n",
       "<style scoped>\n",
       "    .dataframe tbody tr th:only-of-type {\n",
       "        vertical-align: middle;\n",
       "    }\n",
       "\n",
       "    .dataframe tbody tr th {\n",
       "        vertical-align: top;\n",
       "    }\n",
       "\n",
       "    .dataframe thead th {\n",
       "        text-align: right;\n",
       "    }\n",
       "</style>\n",
       "<table border=\"1\" class=\"dataframe\">\n",
       "  <thead>\n",
       "    <tr style=\"text-align: right;\">\n",
       "      <th></th>\n",
       "      <th>Stall_no</th>\n",
       "      <th>Market_Category</th>\n",
       "      <th>Product_Category</th>\n",
       "      <th>Grade</th>\n",
       "      <th>Demand</th>\n",
       "      <th>Discount_avail</th>\n",
       "      <th>charges_1</th>\n",
       "      <th>charges_2 (%)</th>\n",
       "      <th>Minimum_price</th>\n",
       "      <th>Maximum_price</th>\n",
       "      <th>Selling_Price</th>\n",
       "      <th>year</th>\n",
       "      <th>month</th>\n",
       "      <th>quarter</th>\n",
       "      <th>day of the week</th>\n",
       "      <th>Dayofyear</th>\n",
       "      <th>hour</th>\n",
       "    </tr>\n",
       "  </thead>\n",
       "  <tbody>\n",
       "    <tr>\n",
       "      <th>Stall_no</th>\n",
       "      <td>1.000000</td>\n",
       "      <td>-0.005254</td>\n",
       "      <td>-0.011960</td>\n",
       "      <td>-0.005062</td>\n",
       "      <td>0.003070</td>\n",
       "      <td>-0.020269</td>\n",
       "      <td>-0.010733</td>\n",
       "      <td>-0.004029</td>\n",
       "      <td>-0.000394</td>\n",
       "      <td>0.007399</td>\n",
       "      <td>0.011733</td>\n",
       "      <td>0.014627</td>\n",
       "      <td>-0.014229</td>\n",
       "      <td>-0.015480</td>\n",
       "      <td>0.002647</td>\n",
       "      <td>-0.011432</td>\n",
       "      <td>-0.009066</td>\n",
       "    </tr>\n",
       "    <tr>\n",
       "      <th>Market_Category</th>\n",
       "      <td>-0.005254</td>\n",
       "      <td>1.000000</td>\n",
       "      <td>-0.001127</td>\n",
       "      <td>-0.035902</td>\n",
       "      <td>-0.018040</td>\n",
       "      <td>-0.002846</td>\n",
       "      <td>0.019139</td>\n",
       "      <td>0.024895</td>\n",
       "      <td>0.195888</td>\n",
       "      <td>0.134984</td>\n",
       "      <td>0.138711</td>\n",
       "      <td>-0.153107</td>\n",
       "      <td>0.088154</td>\n",
       "      <td>0.110823</td>\n",
       "      <td>0.068333</td>\n",
       "      <td>0.079718</td>\n",
       "      <td>-0.045177</td>\n",
       "    </tr>\n",
       "    <tr>\n",
       "      <th>Product_Category</th>\n",
       "      <td>-0.011960</td>\n",
       "      <td>-0.001127</td>\n",
       "      <td>1.000000</td>\n",
       "      <td>0.010497</td>\n",
       "      <td>-0.021591</td>\n",
       "      <td>-0.027269</td>\n",
       "      <td>0.209666</td>\n",
       "      <td>-0.477107</td>\n",
       "      <td>0.001426</td>\n",
       "      <td>-0.012091</td>\n",
       "      <td>0.015041</td>\n",
       "      <td>0.000758</td>\n",
       "      <td>0.002964</td>\n",
       "      <td>0.003907</td>\n",
       "      <td>-0.001374</td>\n",
       "      <td>0.003509</td>\n",
       "      <td>0.011836</td>\n",
       "    </tr>\n",
       "    <tr>\n",
       "      <th>Grade</th>\n",
       "      <td>-0.005062</td>\n",
       "      <td>-0.035902</td>\n",
       "      <td>0.010497</td>\n",
       "      <td>1.000000</td>\n",
       "      <td>0.010543</td>\n",
       "      <td>-0.026472</td>\n",
       "      <td>-0.024713</td>\n",
       "      <td>-0.016009</td>\n",
       "      <td>-0.077312</td>\n",
       "      <td>0.166191</td>\n",
       "      <td>0.086450</td>\n",
       "      <td>0.026093</td>\n",
       "      <td>-0.031502</td>\n",
       "      <td>-0.036849</td>\n",
       "      <td>-0.021352</td>\n",
       "      <td>-0.031204</td>\n",
       "      <td>0.031726</td>\n",
       "    </tr>\n",
       "    <tr>\n",
       "      <th>Demand</th>\n",
       "      <td>0.003070</td>\n",
       "      <td>-0.018040</td>\n",
       "      <td>-0.021591</td>\n",
       "      <td>0.010543</td>\n",
       "      <td>1.000000</td>\n",
       "      <td>0.008047</td>\n",
       "      <td>-0.008551</td>\n",
       "      <td>0.017853</td>\n",
       "      <td>0.009699</td>\n",
       "      <td>0.003915</td>\n",
       "      <td>-0.000601</td>\n",
       "      <td>-0.009099</td>\n",
       "      <td>0.013794</td>\n",
       "      <td>0.017692</td>\n",
       "      <td>0.010424</td>\n",
       "      <td>0.013055</td>\n",
       "      <td>-0.018795</td>\n",
       "    </tr>\n",
       "    <tr>\n",
       "      <th>Discount_avail</th>\n",
       "      <td>-0.020269</td>\n",
       "      <td>-0.002846</td>\n",
       "      <td>-0.027269</td>\n",
       "      <td>-0.026472</td>\n",
       "      <td>0.008047</td>\n",
       "      <td>1.000000</td>\n",
       "      <td>-0.004402</td>\n",
       "      <td>0.018980</td>\n",
       "      <td>0.011032</td>\n",
       "      <td>-0.003278</td>\n",
       "      <td>-0.512457</td>\n",
       "      <td>0.136271</td>\n",
       "      <td>-0.086498</td>\n",
       "      <td>-0.069562</td>\n",
       "      <td>-0.016370</td>\n",
       "      <td>-0.096114</td>\n",
       "      <td>-0.122093</td>\n",
       "    </tr>\n",
       "    <tr>\n",
       "      <th>charges_1</th>\n",
       "      <td>-0.010733</td>\n",
       "      <td>0.019139</td>\n",
       "      <td>0.209666</td>\n",
       "      <td>-0.024713</td>\n",
       "      <td>-0.008551</td>\n",
       "      <td>-0.004402</td>\n",
       "      <td>1.000000</td>\n",
       "      <td>0.270698</td>\n",
       "      <td>0.018247</td>\n",
       "      <td>0.011605</td>\n",
       "      <td>0.053045</td>\n",
       "      <td>-0.015504</td>\n",
       "      <td>0.012858</td>\n",
       "      <td>0.013501</td>\n",
       "      <td>-0.003653</td>\n",
       "      <td>0.012397</td>\n",
       "      <td>0.007970</td>\n",
       "    </tr>\n",
       "    <tr>\n",
       "      <th>charges_2 (%)</th>\n",
       "      <td>-0.004029</td>\n",
       "      <td>0.024895</td>\n",
       "      <td>-0.477107</td>\n",
       "      <td>-0.016009</td>\n",
       "      <td>0.017853</td>\n",
       "      <td>0.018980</td>\n",
       "      <td>0.270698</td>\n",
       "      <td>1.000000</td>\n",
       "      <td>0.006103</td>\n",
       "      <td>0.010472</td>\n",
       "      <td>0.009031</td>\n",
       "      <td>-0.001882</td>\n",
       "      <td>-0.005513</td>\n",
       "      <td>-0.003757</td>\n",
       "      <td>-0.001500</td>\n",
       "      <td>-0.006752</td>\n",
       "      <td>-0.008302</td>\n",
       "    </tr>\n",
       "    <tr>\n",
       "      <th>Minimum_price</th>\n",
       "      <td>-0.000394</td>\n",
       "      <td>0.195888</td>\n",
       "      <td>0.001426</td>\n",
       "      <td>-0.077312</td>\n",
       "      <td>0.009699</td>\n",
       "      <td>0.011032</td>\n",
       "      <td>0.018247</td>\n",
       "      <td>0.006103</td>\n",
       "      <td>1.000000</td>\n",
       "      <td>0.707679</td>\n",
       "      <td>0.700444</td>\n",
       "      <td>0.056632</td>\n",
       "      <td>-0.013011</td>\n",
       "      <td>-0.010205</td>\n",
       "      <td>0.005408</td>\n",
       "      <td>-0.012291</td>\n",
       "      <td>-0.054918</td>\n",
       "    </tr>\n",
       "    <tr>\n",
       "      <th>Maximum_price</th>\n",
       "      <td>0.007399</td>\n",
       "      <td>0.134984</td>\n",
       "      <td>-0.012091</td>\n",
       "      <td>0.166191</td>\n",
       "      <td>0.003915</td>\n",
       "      <td>-0.003278</td>\n",
       "      <td>0.011605</td>\n",
       "      <td>0.010472</td>\n",
       "      <td>0.707679</td>\n",
       "      <td>1.000000</td>\n",
       "      <td>0.766928</td>\n",
       "      <td>0.179297</td>\n",
       "      <td>-0.112616</td>\n",
       "      <td>-0.128620</td>\n",
       "      <td>-0.066737</td>\n",
       "      <td>-0.104311</td>\n",
       "      <td>0.001049</td>\n",
       "    </tr>\n",
       "    <tr>\n",
       "      <th>Selling_Price</th>\n",
       "      <td>0.011733</td>\n",
       "      <td>0.138711</td>\n",
       "      <td>0.015041</td>\n",
       "      <td>0.086450</td>\n",
       "      <td>-0.000601</td>\n",
       "      <td>-0.512457</td>\n",
       "      <td>0.053045</td>\n",
       "      <td>0.009031</td>\n",
       "      <td>0.700444</td>\n",
       "      <td>0.766928</td>\n",
       "      <td>1.000000</td>\n",
       "      <td>0.061454</td>\n",
       "      <td>-0.026448</td>\n",
       "      <td>-0.037979</td>\n",
       "      <td>-0.033868</td>\n",
       "      <td>-0.018124</td>\n",
       "      <td>0.030152</td>\n",
       "    </tr>\n",
       "    <tr>\n",
       "      <th>year</th>\n",
       "      <td>0.014627</td>\n",
       "      <td>-0.153107</td>\n",
       "      <td>0.000758</td>\n",
       "      <td>0.026093</td>\n",
       "      <td>-0.009099</td>\n",
       "      <td>0.136271</td>\n",
       "      <td>-0.015504</td>\n",
       "      <td>-0.001882</td>\n",
       "      <td>0.056632</td>\n",
       "      <td>0.179297</td>\n",
       "      <td>0.061454</td>\n",
       "      <td>1.000000</td>\n",
       "      <td>-0.825018</td>\n",
       "      <td>-0.854358</td>\n",
       "      <td>-0.198174</td>\n",
       "      <td>-0.807838</td>\n",
       "      <td>-0.088447</td>\n",
       "    </tr>\n",
       "    <tr>\n",
       "      <th>month</th>\n",
       "      <td>-0.014229</td>\n",
       "      <td>0.088154</td>\n",
       "      <td>0.002964</td>\n",
       "      <td>-0.031502</td>\n",
       "      <td>0.013794</td>\n",
       "      <td>-0.086498</td>\n",
       "      <td>0.012858</td>\n",
       "      <td>-0.005513</td>\n",
       "      <td>-0.013011</td>\n",
       "      <td>-0.112616</td>\n",
       "      <td>-0.026448</td>\n",
       "      <td>-0.825018</td>\n",
       "      <td>1.000000</td>\n",
       "      <td>0.981040</td>\n",
       "      <td>0.138291</td>\n",
       "      <td>0.996838</td>\n",
       "      <td>-0.012136</td>\n",
       "    </tr>\n",
       "    <tr>\n",
       "      <th>quarter</th>\n",
       "      <td>-0.015480</td>\n",
       "      <td>0.110823</td>\n",
       "      <td>0.003907</td>\n",
       "      <td>-0.036849</td>\n",
       "      <td>0.017692</td>\n",
       "      <td>-0.069562</td>\n",
       "      <td>0.013501</td>\n",
       "      <td>-0.003757</td>\n",
       "      <td>-0.010205</td>\n",
       "      <td>-0.128620</td>\n",
       "      <td>-0.037979</td>\n",
       "      <td>-0.854358</td>\n",
       "      <td>0.981040</td>\n",
       "      <td>1.000000</td>\n",
       "      <td>0.162669</td>\n",
       "      <td>0.971767</td>\n",
       "      <td>-0.043547</td>\n",
       "    </tr>\n",
       "    <tr>\n",
       "      <th>day of the week</th>\n",
       "      <td>0.002647</td>\n",
       "      <td>0.068333</td>\n",
       "      <td>-0.001374</td>\n",
       "      <td>-0.021352</td>\n",
       "      <td>0.010424</td>\n",
       "      <td>-0.016370</td>\n",
       "      <td>-0.003653</td>\n",
       "      <td>-0.001500</td>\n",
       "      <td>0.005408</td>\n",
       "      <td>-0.066737</td>\n",
       "      <td>-0.033868</td>\n",
       "      <td>-0.198174</td>\n",
       "      <td>0.138291</td>\n",
       "      <td>0.162669</td>\n",
       "      <td>1.000000</td>\n",
       "      <td>0.128386</td>\n",
       "      <td>-0.061779</td>\n",
       "    </tr>\n",
       "    <tr>\n",
       "      <th>Dayofyear</th>\n",
       "      <td>-0.011432</td>\n",
       "      <td>0.079718</td>\n",
       "      <td>0.003509</td>\n",
       "      <td>-0.031204</td>\n",
       "      <td>0.013055</td>\n",
       "      <td>-0.096114</td>\n",
       "      <td>0.012397</td>\n",
       "      <td>-0.006752</td>\n",
       "      <td>-0.012291</td>\n",
       "      <td>-0.104311</td>\n",
       "      <td>-0.018124</td>\n",
       "      <td>-0.807838</td>\n",
       "      <td>0.996838</td>\n",
       "      <td>0.971767</td>\n",
       "      <td>0.128386</td>\n",
       "      <td>1.000000</td>\n",
       "      <td>0.011286</td>\n",
       "    </tr>\n",
       "    <tr>\n",
       "      <th>hour</th>\n",
       "      <td>-0.009066</td>\n",
       "      <td>-0.045177</td>\n",
       "      <td>0.011836</td>\n",
       "      <td>0.031726</td>\n",
       "      <td>-0.018795</td>\n",
       "      <td>-0.122093</td>\n",
       "      <td>0.007970</td>\n",
       "      <td>-0.008302</td>\n",
       "      <td>-0.054918</td>\n",
       "      <td>0.001049</td>\n",
       "      <td>0.030152</td>\n",
       "      <td>-0.088447</td>\n",
       "      <td>-0.012136</td>\n",
       "      <td>-0.043547</td>\n",
       "      <td>-0.061779</td>\n",
       "      <td>0.011286</td>\n",
       "      <td>1.000000</td>\n",
       "    </tr>\n",
       "  </tbody>\n",
       "</table>\n",
       "</div>"
      ],
      "text/plain": [
       "                  Stall_no  Market_Category  Product_Category     Grade  \\\n",
       "Stall_no          1.000000        -0.005254         -0.011960 -0.005062   \n",
       "Market_Category  -0.005254         1.000000         -0.001127 -0.035902   \n",
       "Product_Category -0.011960        -0.001127          1.000000  0.010497   \n",
       "Grade            -0.005062        -0.035902          0.010497  1.000000   \n",
       "Demand            0.003070        -0.018040         -0.021591  0.010543   \n",
       "Discount_avail   -0.020269        -0.002846         -0.027269 -0.026472   \n",
       "charges_1        -0.010733         0.019139          0.209666 -0.024713   \n",
       "charges_2 (%)    -0.004029         0.024895         -0.477107 -0.016009   \n",
       "Minimum_price    -0.000394         0.195888          0.001426 -0.077312   \n",
       "Maximum_price     0.007399         0.134984         -0.012091  0.166191   \n",
       "Selling_Price     0.011733         0.138711          0.015041  0.086450   \n",
       "year              0.014627        -0.153107          0.000758  0.026093   \n",
       "month            -0.014229         0.088154          0.002964 -0.031502   \n",
       "quarter          -0.015480         0.110823          0.003907 -0.036849   \n",
       "day of the week   0.002647         0.068333         -0.001374 -0.021352   \n",
       "Dayofyear        -0.011432         0.079718          0.003509 -0.031204   \n",
       "hour             -0.009066        -0.045177          0.011836  0.031726   \n",
       "\n",
       "                    Demand  Discount_avail  charges_1  charges_2 (%)  \\\n",
       "Stall_no          0.003070       -0.020269  -0.010733      -0.004029   \n",
       "Market_Category  -0.018040       -0.002846   0.019139       0.024895   \n",
       "Product_Category -0.021591       -0.027269   0.209666      -0.477107   \n",
       "Grade             0.010543       -0.026472  -0.024713      -0.016009   \n",
       "Demand            1.000000        0.008047  -0.008551       0.017853   \n",
       "Discount_avail    0.008047        1.000000  -0.004402       0.018980   \n",
       "charges_1        -0.008551       -0.004402   1.000000       0.270698   \n",
       "charges_2 (%)     0.017853        0.018980   0.270698       1.000000   \n",
       "Minimum_price     0.009699        0.011032   0.018247       0.006103   \n",
       "Maximum_price     0.003915       -0.003278   0.011605       0.010472   \n",
       "Selling_Price    -0.000601       -0.512457   0.053045       0.009031   \n",
       "year             -0.009099        0.136271  -0.015504      -0.001882   \n",
       "month             0.013794       -0.086498   0.012858      -0.005513   \n",
       "quarter           0.017692       -0.069562   0.013501      -0.003757   \n",
       "day of the week   0.010424       -0.016370  -0.003653      -0.001500   \n",
       "Dayofyear         0.013055       -0.096114   0.012397      -0.006752   \n",
       "hour             -0.018795       -0.122093   0.007970      -0.008302   \n",
       "\n",
       "                  Minimum_price  Maximum_price  Selling_Price      year  \\\n",
       "Stall_no              -0.000394       0.007399       0.011733  0.014627   \n",
       "Market_Category        0.195888       0.134984       0.138711 -0.153107   \n",
       "Product_Category       0.001426      -0.012091       0.015041  0.000758   \n",
       "Grade                 -0.077312       0.166191       0.086450  0.026093   \n",
       "Demand                 0.009699       0.003915      -0.000601 -0.009099   \n",
       "Discount_avail         0.011032      -0.003278      -0.512457  0.136271   \n",
       "charges_1              0.018247       0.011605       0.053045 -0.015504   \n",
       "charges_2 (%)          0.006103       0.010472       0.009031 -0.001882   \n",
       "Minimum_price          1.000000       0.707679       0.700444  0.056632   \n",
       "Maximum_price          0.707679       1.000000       0.766928  0.179297   \n",
       "Selling_Price          0.700444       0.766928       1.000000  0.061454   \n",
       "year                   0.056632       0.179297       0.061454  1.000000   \n",
       "month                 -0.013011      -0.112616      -0.026448 -0.825018   \n",
       "quarter               -0.010205      -0.128620      -0.037979 -0.854358   \n",
       "day of the week        0.005408      -0.066737      -0.033868 -0.198174   \n",
       "Dayofyear             -0.012291      -0.104311      -0.018124 -0.807838   \n",
       "hour                  -0.054918       0.001049       0.030152 -0.088447   \n",
       "\n",
       "                     month   quarter  day of the week  Dayofyear      hour  \n",
       "Stall_no         -0.014229 -0.015480         0.002647  -0.011432 -0.009066  \n",
       "Market_Category   0.088154  0.110823         0.068333   0.079718 -0.045177  \n",
       "Product_Category  0.002964  0.003907        -0.001374   0.003509  0.011836  \n",
       "Grade            -0.031502 -0.036849        -0.021352  -0.031204  0.031726  \n",
       "Demand            0.013794  0.017692         0.010424   0.013055 -0.018795  \n",
       "Discount_avail   -0.086498 -0.069562        -0.016370  -0.096114 -0.122093  \n",
       "charges_1         0.012858  0.013501        -0.003653   0.012397  0.007970  \n",
       "charges_2 (%)    -0.005513 -0.003757        -0.001500  -0.006752 -0.008302  \n",
       "Minimum_price    -0.013011 -0.010205         0.005408  -0.012291 -0.054918  \n",
       "Maximum_price    -0.112616 -0.128620        -0.066737  -0.104311  0.001049  \n",
       "Selling_Price    -0.026448 -0.037979        -0.033868  -0.018124  0.030152  \n",
       "year             -0.825018 -0.854358        -0.198174  -0.807838 -0.088447  \n",
       "month             1.000000  0.981040         0.138291   0.996838 -0.012136  \n",
       "quarter           0.981040  1.000000         0.162669   0.971767 -0.043547  \n",
       "day of the week   0.138291  0.162669         1.000000   0.128386 -0.061779  \n",
       "Dayofyear         0.996838  0.971767         0.128386   1.000000  0.011286  \n",
       "hour             -0.012136 -0.043547        -0.061779   0.011286  1.000000  "
      ]
     },
     "execution_count": 147,
     "metadata": {},
     "output_type": "execute_result"
    }
   ],
   "source": [
    "print(\"Este grafico es interesante porque muestra la correlacion de las variables, mientras mas cerca este del 1 mas se correlacionan, en este caso tenemos a Discount-SellingPrice, Maximun-Minimun-SellingPrice. Tambien se ve que el dia o fecha no tiene mucho impacto\")\n",
    "data_train.corr()"
   ]
  },
  {
   "cell_type": "code",
   "execution_count": 150,
   "id": "7f1e5b0a",
   "metadata": {},
   "outputs": [],
   "source": [
    "#data_train[\"Selling_Price\"] = data_train[\"Selling_Price\"].abs()\n",
    "data_train = data_train.drop(['year','month','quarter','day of the week','Dayofyear','hour'], axis=1)\n",
    "data_train[\"Selling_Price\"] = data_train[\"Selling_Price\"].abs()"
   ]
  },
  {
   "cell_type": "code",
   "execution_count": 151,
   "id": "c4aaa854",
   "metadata": {},
   "outputs": [
    {
     "data": {
      "text/plain": [
       "Stall_no              5\n",
       "Market_Category       0\n",
       "Product_Category      0\n",
       "Grade                 0\n",
       "Demand                0\n",
       "Discount_avail       37\n",
       "charges_1           198\n",
       "charges_2 (%)       204\n",
       "Minimum_price        38\n",
       "Maximum_price       341\n",
       "Selling_Price         0\n",
       "dtype: int64"
      ]
     },
     "execution_count": 151,
     "metadata": {},
     "output_type": "execute_result"
    }
   ],
   "source": [
    "data_train.isna().sum()"
   ]
  },
  {
   "cell_type": "code",
   "execution_count": 152,
   "id": "1bb36f86",
   "metadata": {},
   "outputs": [],
   "source": [
    "data_train=data_train.dropna()"
   ]
  },
  {
   "cell_type": "code",
   "execution_count": 153,
   "id": "0a388388",
   "metadata": {},
   "outputs": [
    {
     "data": {
      "text/plain": [
       "count     5570.000000\n",
       "mean      4586.281243\n",
       "std       2992.165421\n",
       "min          4.000000\n",
       "25%       2419.777877\n",
       "50%       4227.362960\n",
       "75%       6213.924011\n",
       "max      22638.325941\n",
       "Name: Selling_Price, dtype: float64"
      ]
     },
     "execution_count": 153,
     "metadata": {},
     "output_type": "execute_result"
    }
   ],
   "source": [
    "data_train.Selling_Price.describe()"
   ]
  },
  {
   "cell_type": "code",
   "execution_count": 154,
   "id": "4e113816",
   "metadata": {},
   "outputs": [
    {
     "data": {
      "text/plain": [
       "Stall_no            0\n",
       "Market_Category     0\n",
       "Product_Category    0\n",
       "Grade               0\n",
       "Demand              0\n",
       "Discount_avail      0\n",
       "charges_1           0\n",
       "charges_2 (%)       0\n",
       "Minimum_price       0\n",
       "Maximum_price       0\n",
       "Selling_Price       0\n",
       "dtype: int64"
      ]
     },
     "execution_count": 154,
     "metadata": {},
     "output_type": "execute_result"
    }
   ],
   "source": [
    "data_train.isna().sum()"
   ]
  },
  {
   "cell_type": "code",
   "execution_count": 155,
   "id": "890e4454",
   "metadata": {},
   "outputs": [
    {
     "data": {
      "image/png": "[encoded data removed]",
      "text/plain": [
       "<Figure size 500x500 with 1 Axes>"
      ]
     },
     "metadata": {},
     "output_type": "display_data"
    },
    {
     "data": {
      "image/png": "[encoded data removed]",
      "text/plain": [
       "<Figure size 500x500 with 1 Axes>"
      ]
     },
     "metadata": {},
     "output_type": "display_data"
    }
   ],
   "source": [
    "# Distplot of Charges_1\n",
    "import seaborn as sns\n",
    "import matplotlib.pyplot as plt\n",
    "sns.displot(data_train.charges_1,kde=True)\n",
    "plt.grid('True')\n",
    "for x in [0.25,0.5,0.75]:\n",
    "    plt.axvline(data_train.charges_1.quantile(x),c='g',lw=1.5)\n",
    "plt.show()\n",
    "\n",
    "sns.displot(data_train['charges_2 (%)'],kde=True)\n",
    "plt.grid('True')\n",
    "for x in [0.25,0.50,0.75]:\n",
    "    plt.axvline(data_train['charges_2 (%)'].quantile(x),color='m',lw=1.5)\n",
    "plt.show()"
   ]
  },
  {
   "cell_type": "code",
   "execution_count": 156,
   "id": "2c157336",
   "metadata": {},
   "outputs": [
    {
     "data": {
      "image/png": "[encoded data removed]",
      "text/plain": [
       "<Figure size 640x480 with 1 Axes>"
      ]
     },
     "metadata": {},
     "output_type": "display_data"
    },
    {
     "data": {
      "image/png": "[encoded data removed]",
      "text/plain": [
       "<Figure size 640x480 with 1 Axes>"
      ]
     },
     "metadata": {},
     "output_type": "display_data"
    }
   ],
   "source": [
    "# Distplot of Minimum Price\n",
    "sns.histplot(data=data_train.Minimum_price, kde=True)\n",
    "plt.grid('True')\n",
    "for x in [0.25,0.50,0.75]:\n",
    "    plt.axvline(data_train.Minimum_price.quantile(x),c='g',lw=1.5)\n",
    "plt.show()\n",
    "# Distplot of Maximum Price\n",
    "sns.histplot(data=data_train.Maximum_price, kde=True)\n",
    "plt.grid('True')\n",
    "for x in [0.25,0.50,0.75]:\n",
    "    plt.axvline(data_train.Maximum_price.quantile(x),c='g',lw=1.5)\n",
    "plt.show()"
   ]
  },
  {
   "cell_type": "code",
   "execution_count": 157,
   "id": "b2cddcef",
   "metadata": {},
   "outputs": [],
   "source": [
    "from sklearn.linear_model import LinearRegression"
   ]
  },
  {
   "cell_type": "code",
   "execution_count": 158,
   "id": "d8b56c75",
   "metadata": {},
   "outputs": [],
   "source": [
    "X = data_train.drop(['Selling_Price'], axis=1)\n",
    "Y = data_train['Selling_Price']\n"
   ]
  },
  {
   "cell_type": "code",
   "execution_count": 160,
   "id": "559106d7",
   "metadata": {},
   "outputs": [
    {
     "data": {
      "text/plain": [
       "LinearRegression()"
      ]
     },
     "execution_count": 160,
     "metadata": {},
     "output_type": "execute_result"
    }
   ],
   "source": [
    "model = LinearRegression()\n",
    "model.fit(X, Y)"
   ]
  },
  {
   "cell_type": "code",
   "execution_count": 161,
   "id": "a847e869",
   "metadata": {},
   "outputs": [
    {
     "name": "stdout",
     "output_type": "stream",
     "text": [
      "Intercept: 666.652740414389\n",
      "\n",
      "Number of coefficients: 10\n",
      "\n",
      "Feature coefficients:\n",
      "('Stall_no', -0.7245058437170878)\n",
      "('Market_Category', 0.05305956945632214)\n",
      "('Product_Category', -1.119417954473378)\n",
      "('Grade', 25.944927188935782)\n",
      "('Demand', -0.3555181799709614)\n",
      "('Discount_avail', -4452.081783032694)\n",
      "('charges_1', 0.998486837832368)\n",
      "('charges_2 (%)', -0.31583132086896054)\n",
      "('Minimum_price', 0.44297714859975607)\n",
      "('Maximum_price', 0.4251817459008408)\n"
     ]
    }
   ],
   "source": [
    "print(\"Intercept:\", model.intercept_)\n",
    "\n",
    "lr_coefficients = list(zip(data_train.loc[:, data_train.columns != 'Selling_Price'].columns,model.coef_))\n",
    "print(\"\\nNumber of coefficients:\",len(lr_coefficients))\n",
    "print(\"\\nFeature coefficients:\",*lr_coefficients, sep='\\n')"
   ]
  },
  {
   "cell_type": "code",
   "execution_count": 162,
   "id": "6889d3d3",
   "metadata": {},
   "outputs": [],
   "source": [
    "# After applying Label Encoding to categorical columns: train['Customer_name'], train['Loyalty_customer'], train['Product_Category']\n",
    "\n",
    "from sklearn import preprocessing \n",
    "label_encoder = preprocessing.LabelEncoder() \n",
    "\n",
    "# Encode labels in column 'Loyalty_customer'. \n",
    "test['Loyalty_customer']= label_encoder.fit_transform(test['Loyalty_customer']) \n",
    "\n",
    "# Encode labels in column 'Product_Category'. \n",
    "test['Product_Category']= label_encoder.fit_transform(test['Product_Category']) "
   ]
  },
  {
   "cell_type": "code",
   "execution_count": 163,
   "id": "357d74ee",
   "metadata": {},
   "outputs": [],
   "source": [
    "data_test = test.drop(['Product_id', 'instock_date','Customer_name', 'Loyalty_customer'], axis=1)\n",
    "\n",
    "data_test=data_test.drop(['year','month','quarter','day of the week','Dayofyear','hour'], axis=1)"
   ]
  },
  {
   "cell_type": "code",
   "execution_count": 164,
   "id": "51e5cf24",
   "metadata": {},
   "outputs": [
    {
     "data": {
      "text/plain": [
       "Stall_no            0\n",
       "Market_Category     0\n",
       "Product_Category    0\n",
       "Grade               0\n",
       "Demand              0\n",
       "Discount_avail      0\n",
       "charges_1           0\n",
       "charges_2 (%)       0\n",
       "Minimum_price       0\n",
       "Maximum_price       0\n",
       "dtype: int64"
      ]
     },
     "execution_count": 164,
     "metadata": {},
     "output_type": "execute_result"
    }
   ],
   "source": [
    "data_test=data_test.dropna()\n",
    "data_test.isnull().sum()"
   ]
  },
  {
   "cell_type": "code",
   "execution_count": 165,
   "id": "7530d37c",
   "metadata": {},
   "outputs": [],
   "source": [
    "pred = model.predict(data_test)"
   ]
  },
  {
   "cell_type": "code",
   "execution_count": 172,
   "id": "e6bfe86d",
   "metadata": {},
   "outputs": [],
   "source": [
    "pred = abs(pred)"
   ]
  },
  {
   "cell_type": "code",
   "execution_count": 173,
   "id": "3ebe5602",
   "metadata": {},
   "outputs": [
    {
     "data": {
      "text/plain": [
       "(3374,)"
      ]
     },
     "execution_count": 173,
     "metadata": {},
     "output_type": "execute_result"
    }
   ],
   "source": [
    "pred.shape"
   ]
  },
  {
   "cell_type": "markdown",
   "id": "ab62784d",
   "metadata": {},
   "source": [
    "## Scores\n",
    "En estadística, el *error cuadrático medio* de un estimador mide el promedio de los errores al cuadrado, es decir, la diferencia entre el estimador y lo que se estima.\n",
    "There is no correct value for MSE. Simply put, the lower the value the better and 0 means the model is perfect.\n",
    "\n",
    "*Error logarítmico cuadrático medio*, se puede interpretar como el radio entre los valores verdaderos y los valores pronósticados. Se usa esta métrica cuando se desea que los errores grandes sean más penalizados que los errores pequeños."
   ]
  },
  {
   "cell_type": "code",
   "execution_count": 168,
   "id": "2518505b",
   "metadata": {},
   "outputs": [
    {
     "name": "stdout",
     "output_type": "stream",
     "text": [
      "train_rmse = 20.17864295666664\n"
     ]
    }
   ],
   "source": [
    "from sklearn.metrics import mean_absolute_error\n",
    "import numpy as np\n",
    "lr_predicted_train=abs(model.predict(X))\n",
    "rmse1 = np.sqrt(mean_absolute_error(Y, lr_predicted_train))\n",
    "print(\"train_rmse =\", rmse1)"
   ]
  },
  {
   "cell_type": "code",
   "execution_count": 169,
   "id": "590a8198",
   "metadata": {},
   "outputs": [
    {
     "name": "stdout",
     "output_type": "stream",
     "text": [
      "train_score = 99.51122087681566\n"
     ]
    }
   ],
   "source": [
    "from sklearn.metrics import mean_squared_log_error\n",
    "\n",
    "RMSLE = np.sqrt(mean_squared_log_error(Y,lr_predicted_train))\n",
    "score1 = max(0,100 - RMSLE)\n",
    "print(\"train_score =\", score1)"
   ]
  },
  {
   "cell_type": "code",
   "execution_count": null,
   "id": "1451f99b",
   "metadata": {},
   "outputs": [],
   "source": []
  },
  {
   "cell_type": "markdown",
   "id": "5a0111b2",
   "metadata": {},
   "source": [
    "## Ridge Regression\n",
    "La regresión de cresta es un método para estimar los coeficientes de modelos de regresión múltiple en escenarios donde las variables independientes están altamente correlacionadas."
   ]
  },
  {
   "cell_type": "code",
   "execution_count": 96,
   "id": "5786feb8",
   "metadata": {},
   "outputs": [],
   "source": [
    "from sklearn.linear_model import Ridge,Lasso\n",
    "from sklearn.model_selection import GridSearchCV\n",
    "from sklearn.metrics import make_scorer,mean_squared_error\n",
    "lambdas=np.linspace(0.1,10,100)\n",
    "params={'alpha':lambdas}\n",
    "\n",
    "model=Ridge(fit_intercept=True)\n",
    "scorer = make_scorer(mean_squared_error, greater_is_better=False)\n",
    "grid_search=GridSearchCV(model,param_grid=params,cv=10,scoring='neg_mean_absolute_error')\n",
    "grid_search.fit(X, Y)\n",
    "model = grid_search.best_estimator_\n",
    "\n",
    "rg_predicted_train = abs(model.predict(X))"
   ]
  },
  {
   "cell_type": "code",
   "execution_count": 97,
   "id": "5beda8e4",
   "metadata": {},
   "outputs": [
    {
     "name": "stdout",
     "output_type": "stream",
     "text": [
      "\n",
      "Number of coefficients: 10\n",
      "\n",
      "Feature coefficients:\n",
      "('Stall_no', -0.7084757928990327)\n",
      "('Market_Category', 0.060425907796309276)\n",
      "('Product_Category', -0.47429608225549463)\n",
      "('Grade', 26.013142580522995)\n",
      "('Demand', -0.3347909560291399)\n",
      "('Discount_avail', -4390.099389883514)\n",
      "('charges_1', 0.9902090925259653)\n",
      "('charges_2 (%)', -0.12353464917681863)\n",
      "('Minimum_price', 0.442972193802634)\n",
      "('Maximum_price', 0.4250449147645299)\n"
     ]
    }
   ],
   "source": [
    "ridge_coefficients = list(zip(data_train.loc[:, data_train.columns != 'Selling_Price'].columns,model.coef_))\n",
    "print(\"\\nNumber of coefficients:\",len(ridge_coefficients))\n",
    "print(\"\\nFeature coefficients:\",*ridge_coefficients, sep='\\n')"
   ]
  },
  {
   "cell_type": "code",
   "execution_count": 98,
   "id": "18455720",
   "metadata": {},
   "outputs": [
    {
     "name": "stdout",
     "output_type": "stream",
     "text": [
      "train_rmse = 20.172646865904646\n"
     ]
    }
   ],
   "source": [
    "rmse1 = np.sqrt(mean_absolute_error(Y, rg_predicted_train))\n",
    "print(\"train_rmse =\", rmse1)"
   ]
  },
  {
   "cell_type": "code",
   "execution_count": 99,
   "id": "6212ddda",
   "metadata": {},
   "outputs": [
    {
     "name": "stdout",
     "output_type": "stream",
     "text": [
      "train_score = 99.51701804215182\n"
     ]
    }
   ],
   "source": [
    "RMSLE = np.sqrt(mean_squared_log_error(Y,rg_predicted_train))\n",
    "score1 = max(0,100 - RMSLE)\n",
    "print(\"train_score =\", score1)"
   ]
  },
  {
   "cell_type": "markdown",
   "id": "42a81cfb",
   "metadata": {},
   "source": [
    "## Predict"
   ]
  },
  {
   "cell_type": "code",
   "execution_count": 102,
   "id": "0044aaf8",
   "metadata": {},
   "outputs": [],
   "source": [
    "pred = model.predict(data_test)"
   ]
  },
  {
   "cell_type": "code",
   "execution_count": 107,
   "id": "05db9150",
   "metadata": {},
   "outputs": [
    {
     "ename": "NameError",
     "evalue": "name 'unique' is not defined",
     "output_type": "error",
     "traceback": [
      "\u001b[1;31m---------------------------------------------------------------------------\u001b[0m",
      "\u001b[1;31mNameError\u001b[0m                                 Traceback (most recent call last)",
      "\u001b[1;32m~\\AppData\\Local\\Temp\\ipykernel_4088\\1098946183.py\u001b[0m in \u001b[0;36m<module>\u001b[1;34m\u001b[0m\n\u001b[1;32m----> 1\u001b[1;33m \u001b[0munique\u001b[0m\u001b[1;33m(\u001b[0m\u001b[0mpred\u001b[0m\u001b[1;33m)\u001b[0m\u001b[1;33m\u001b[0m\u001b[1;33m\u001b[0m\u001b[0m\n\u001b[0m",
      "\u001b[1;31mNameError\u001b[0m: name 'unique' is not defined"
     ]
    }
   ],
   "source": []
  },
  {
   "cell_type": "code",
   "execution_count": null,
   "id": "29650eac",
   "metadata": {},
   "outputs": [],
   "source": []
  }
 ],
 "metadata": {
  "kernelspec": {
   "display_name": "Python 3 (ipykernel)",
   "language": "python",
   "name": "python3"
  },
  "language_info": {
   "codemirror_mode": {
    "name": "ipython",
    "version": 3
   },
   "file_extension": ".py",
   "mimetype": "text/x-python",
   "name": "python",
   "nbconvert_exporter": "python",
   "pygments_lexer": "ipython3",
   "version": "3.9.13"
  }
 },
 "nbformat": 4,
 "nbformat_minor": 5
}
