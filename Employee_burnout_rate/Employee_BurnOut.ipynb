{
 "cells": [
  {
   "cell_type": "markdown",
   "id": "0d8fbbd7",
   "metadata": {},
   "source": [
    "https://www.hackerearth.com/practice/machine-learning/machine-learning-algorithms/beginners-guide-regression-analysis-plot-interpretations/practice-problems/machine-learning/predict-the-employee-burn-out-rate-7-6340b4e3/"
   ]
  },
  {
   "cell_type": "code",
   "execution_count": 14,
   "id": "2497db51",
   "metadata": {},
   "outputs": [],
   "source": [
    "import pandas as pd\n",
    "import numpy as np \n",
    "import seaborn as sns\n",
    "import matplotlib.pyplot as plt"
   ]
  },
  {
   "cell_type": "code",
   "execution_count": 15,
   "id": "5ef3985c",
   "metadata": {},
   "outputs": [],
   "source": [
    "train  = pd.read_csv(r\"./train.csv\")\n",
    "test = pd.read_csv(r\"./test.csv\")"
   ]
  },
  {
   "cell_type": "code",
   "execution_count": 16,
   "id": "8b99a0c6",
   "metadata": {},
   "outputs": [
    {
     "data": {
      "text/html": [
       "<div>\n",
       "<style scoped>\n",
       "    .dataframe tbody tr th:only-of-type {\n",
       "        vertical-align: middle;\n",
       "    }\n",
       "\n",
       "    .dataframe tbody tr th {\n",
       "        vertical-align: top;\n",
       "    }\n",
       "\n",
       "    .dataframe thead th {\n",
       "        text-align: right;\n",
       "    }\n",
       "</style>\n",
       "<table border=\"1\" class=\"dataframe\">\n",
       "  <thead>\n",
       "    <tr style=\"text-align: right;\">\n",
       "      <th></th>\n",
       "      <th>Employee ID</th>\n",
       "      <th>Date of Joining</th>\n",
       "      <th>Gender</th>\n",
       "      <th>Company Type</th>\n",
       "      <th>WFH Setup Available</th>\n",
       "      <th>Designation</th>\n",
       "      <th>Resource Allocation</th>\n",
       "      <th>Mental Fatigue Score</th>\n",
       "      <th>Burn Rate</th>\n",
       "    </tr>\n",
       "  </thead>\n",
       "  <tbody>\n",
       "    <tr>\n",
       "      <th>0</th>\n",
       "      <td>fffe32003000360033003200</td>\n",
       "      <td>2008-09-30</td>\n",
       "      <td>Female</td>\n",
       "      <td>Service</td>\n",
       "      <td>No</td>\n",
       "      <td>2.0</td>\n",
       "      <td>3.0</td>\n",
       "      <td>3.8</td>\n",
       "      <td>0.16</td>\n",
       "    </tr>\n",
       "    <tr>\n",
       "      <th>1</th>\n",
       "      <td>fffe3700360033003500</td>\n",
       "      <td>2008-11-30</td>\n",
       "      <td>Male</td>\n",
       "      <td>Service</td>\n",
       "      <td>Yes</td>\n",
       "      <td>1.0</td>\n",
       "      <td>2.0</td>\n",
       "      <td>5.0</td>\n",
       "      <td>0.36</td>\n",
       "    </tr>\n",
       "    <tr>\n",
       "      <th>2</th>\n",
       "      <td>fffe31003300320037003900</td>\n",
       "      <td>2008-03-10</td>\n",
       "      <td>Female</td>\n",
       "      <td>Product</td>\n",
       "      <td>Yes</td>\n",
       "      <td>2.0</td>\n",
       "      <td>NaN</td>\n",
       "      <td>5.8</td>\n",
       "      <td>0.49</td>\n",
       "    </tr>\n",
       "    <tr>\n",
       "      <th>3</th>\n",
       "      <td>fffe32003400380032003900</td>\n",
       "      <td>2008-11-03</td>\n",
       "      <td>Male</td>\n",
       "      <td>Service</td>\n",
       "      <td>Yes</td>\n",
       "      <td>1.0</td>\n",
       "      <td>1.0</td>\n",
       "      <td>2.6</td>\n",
       "      <td>0.20</td>\n",
       "    </tr>\n",
       "    <tr>\n",
       "      <th>4</th>\n",
       "      <td>fffe31003900340031003600</td>\n",
       "      <td>2008-07-24</td>\n",
       "      <td>Female</td>\n",
       "      <td>Service</td>\n",
       "      <td>No</td>\n",
       "      <td>3.0</td>\n",
       "      <td>7.0</td>\n",
       "      <td>6.9</td>\n",
       "      <td>0.52</td>\n",
       "    </tr>\n",
       "  </tbody>\n",
       "</table>\n",
       "</div>"
      ],
      "text/plain": [
       "                Employee ID Date of Joining  Gender Company Type  \\\n",
       "0  fffe32003000360033003200      2008-09-30  Female      Service   \n",
       "1      fffe3700360033003500      2008-11-30    Male      Service   \n",
       "2  fffe31003300320037003900      2008-03-10  Female      Product   \n",
       "3  fffe32003400380032003900      2008-11-03    Male      Service   \n",
       "4  fffe31003900340031003600      2008-07-24  Female      Service   \n",
       "\n",
       "  WFH Setup Available  Designation  Resource Allocation  Mental Fatigue Score  \\\n",
       "0                  No          2.0                  3.0                   3.8   \n",
       "1                 Yes          1.0                  2.0                   5.0   \n",
       "2                 Yes          2.0                  NaN                   5.8   \n",
       "3                 Yes          1.0                  1.0                   2.6   \n",
       "4                  No          3.0                  7.0                   6.9   \n",
       "\n",
       "   Burn Rate  \n",
       "0       0.16  \n",
       "1       0.36  \n",
       "2       0.49  \n",
       "3       0.20  \n",
       "4       0.52  "
      ]
     },
     "execution_count": 16,
     "metadata": {},
     "output_type": "execute_result"
    }
   ],
   "source": [
    "train.head()"
   ]
  },
  {
   "cell_type": "markdown",
   "id": "5d402194",
   "metadata": {},
   "source": [
    "### Limpiamos el dataset "
   ]
  },
  {
   "cell_type": "code",
   "execution_count": 17,
   "id": "b7cc123a",
   "metadata": {},
   "outputs": [
    {
     "data": {
      "text/plain": [
       "Employee ID                0\n",
       "Date of Joining            0\n",
       "Gender                     0\n",
       "Company Type               0\n",
       "WFH Setup Available        0\n",
       "Designation                0\n",
       "Resource Allocation     1381\n",
       "Mental Fatigue Score    2117\n",
       "Burn Rate               1124\n",
       "dtype: int64"
      ]
     },
     "execution_count": 17,
     "metadata": {},
     "output_type": "execute_result"
    }
   ],
   "source": [
    "train.isnull().sum()"
   ]
  },
  {
   "cell_type": "code",
   "execution_count": 18,
   "id": "bf0cd2a6",
   "metadata": {},
   "outputs": [],
   "source": [
    "train['Date of Joining']= pd.to_datetime(train['Date of Joining'])\n",
    "train['year'] = train['Date of Joining'].dt.year\n",
    "train['month'] =  train['Date of Joining'].dt.month\n",
    "train[\"day\"] = train['Date of Joining'].dt.day"
   ]
  },
  {
   "cell_type": "code",
   "execution_count": 19,
   "id": "f16206c6",
   "metadata": {},
   "outputs": [],
   "source": [
    "train['Gender']=pd.Categorical(train['Gender'])\n",
    "d1 = dict(enumerate(train['Gender'].cat.categories))\n",
    "train['Gender']=train.Gender.cat.codes"
   ]
  },
  {
   "cell_type": "code",
   "execution_count": 20,
   "id": "cf7778d0",
   "metadata": {},
   "outputs": [],
   "source": [
    "train['Company Type']=pd.Categorical(train['Company Type'])\n",
    "d1 = dict(enumerate(train['Company Type'].cat.categories))\n",
    "train['Company Type']=train['Company Type'].cat.codes\n",
    "\n",
    "train['WFH Setup Available']=pd.Categorical(train['WFH Setup Available'])\n",
    "d1 = dict(enumerate(train['WFH Setup Available'].cat.categories))\n",
    "train['WFH Setup Available']=train['WFH Setup Available'].cat.codes"
   ]
  },
  {
   "cell_type": "code",
   "execution_count": 21,
   "id": "45ec44c1",
   "metadata": {},
   "outputs": [
    {
     "data": {
      "text/html": [
       "<div>\n",
       "<style scoped>\n",
       "    .dataframe tbody tr th:only-of-type {\n",
       "        vertical-align: middle;\n",
       "    }\n",
       "\n",
       "    .dataframe tbody tr th {\n",
       "        vertical-align: top;\n",
       "    }\n",
       "\n",
       "    .dataframe thead th {\n",
       "        text-align: right;\n",
       "    }\n",
       "</style>\n",
       "<table border=\"1\" class=\"dataframe\">\n",
       "  <thead>\n",
       "    <tr style=\"text-align: right;\">\n",
       "      <th></th>\n",
       "      <th>Employee ID</th>\n",
       "      <th>Date of Joining</th>\n",
       "      <th>Gender</th>\n",
       "      <th>Company Type</th>\n",
       "      <th>WFH Setup Available</th>\n",
       "      <th>Designation</th>\n",
       "      <th>Resource Allocation</th>\n",
       "      <th>Mental Fatigue Score</th>\n",
       "      <th>Burn Rate</th>\n",
       "      <th>year</th>\n",
       "      <th>month</th>\n",
       "      <th>day</th>\n",
       "    </tr>\n",
       "  </thead>\n",
       "  <tbody>\n",
       "    <tr>\n",
       "      <th>0</th>\n",
       "      <td>fffe32003000360033003200</td>\n",
       "      <td>2008-09-30</td>\n",
       "      <td>0</td>\n",
       "      <td>1</td>\n",
       "      <td>0</td>\n",
       "      <td>2.0</td>\n",
       "      <td>3.0</td>\n",
       "      <td>3.8</td>\n",
       "      <td>0.16</td>\n",
       "      <td>2008</td>\n",
       "      <td>9</td>\n",
       "      <td>30</td>\n",
       "    </tr>\n",
       "    <tr>\n",
       "      <th>1</th>\n",
       "      <td>fffe3700360033003500</td>\n",
       "      <td>2008-11-30</td>\n",
       "      <td>1</td>\n",
       "      <td>1</td>\n",
       "      <td>1</td>\n",
       "      <td>1.0</td>\n",
       "      <td>2.0</td>\n",
       "      <td>5.0</td>\n",
       "      <td>0.36</td>\n",
       "      <td>2008</td>\n",
       "      <td>11</td>\n",
       "      <td>30</td>\n",
       "    </tr>\n",
       "    <tr>\n",
       "      <th>2</th>\n",
       "      <td>fffe31003300320037003900</td>\n",
       "      <td>2008-03-10</td>\n",
       "      <td>0</td>\n",
       "      <td>0</td>\n",
       "      <td>1</td>\n",
       "      <td>2.0</td>\n",
       "      <td>NaN</td>\n",
       "      <td>5.8</td>\n",
       "      <td>0.49</td>\n",
       "      <td>2008</td>\n",
       "      <td>3</td>\n",
       "      <td>10</td>\n",
       "    </tr>\n",
       "    <tr>\n",
       "      <th>3</th>\n",
       "      <td>fffe32003400380032003900</td>\n",
       "      <td>2008-11-03</td>\n",
       "      <td>1</td>\n",
       "      <td>1</td>\n",
       "      <td>1</td>\n",
       "      <td>1.0</td>\n",
       "      <td>1.0</td>\n",
       "      <td>2.6</td>\n",
       "      <td>0.20</td>\n",
       "      <td>2008</td>\n",
       "      <td>11</td>\n",
       "      <td>3</td>\n",
       "    </tr>\n",
       "    <tr>\n",
       "      <th>4</th>\n",
       "      <td>fffe31003900340031003600</td>\n",
       "      <td>2008-07-24</td>\n",
       "      <td>0</td>\n",
       "      <td>1</td>\n",
       "      <td>0</td>\n",
       "      <td>3.0</td>\n",
       "      <td>7.0</td>\n",
       "      <td>6.9</td>\n",
       "      <td>0.52</td>\n",
       "      <td>2008</td>\n",
       "      <td>7</td>\n",
       "      <td>24</td>\n",
       "    </tr>\n",
       "  </tbody>\n",
       "</table>\n",
       "</div>"
      ],
      "text/plain": [
       "                Employee ID Date of Joining  Gender  Company Type  \\\n",
       "0  fffe32003000360033003200      2008-09-30       0             1   \n",
       "1      fffe3700360033003500      2008-11-30       1             1   \n",
       "2  fffe31003300320037003900      2008-03-10       0             0   \n",
       "3  fffe32003400380032003900      2008-11-03       1             1   \n",
       "4  fffe31003900340031003600      2008-07-24       0             1   \n",
       "\n",
       "   WFH Setup Available  Designation  Resource Allocation  \\\n",
       "0                    0          2.0                  3.0   \n",
       "1                    1          1.0                  2.0   \n",
       "2                    1          2.0                  NaN   \n",
       "3                    1          1.0                  1.0   \n",
       "4                    0          3.0                  7.0   \n",
       "\n",
       "   Mental Fatigue Score  Burn Rate  year  month  day  \n",
       "0                   3.8       0.16  2008      9   30  \n",
       "1                   5.0       0.36  2008     11   30  \n",
       "2                   5.8       0.49  2008      3   10  \n",
       "3                   2.6       0.20  2008     11    3  \n",
       "4                   6.9       0.52  2008      7   24  "
      ]
     },
     "execution_count": 21,
     "metadata": {},
     "output_type": "execute_result"
    }
   ],
   "source": [
    "train.head()"
   ]
  },
  {
   "cell_type": "code",
   "execution_count": 24,
   "id": "1b9136ff",
   "metadata": {},
   "outputs": [],
   "source": [
    "train['Resource Allocation'].fillna(train['Resource Allocation'].mean(),inplace=True)\n",
    "train['Mental Fatigue Score'].fillna(train['Mental Fatigue Score'].mean(),inplace=True)\n",
    "#data['Maximum_price'].fillna(data['Maximum_price'].mean(),inplace=True)\n",
    "train = train.dropna()"
   ]
  },
  {
   "cell_type": "markdown",
   "id": "8d60b6c6",
   "metadata": {},
   "source": [
    "### Matriz de Correlacion"
   ]
  },
  {
   "cell_type": "code",
   "execution_count": 26,
   "id": "08904ca0",
   "metadata": {},
   "outputs": [
    {
     "data": {
      "image/png": "[encoded data removed]",
      "text/plain": [
       "<Figure size 1000x800 with 2 Axes>"
      ]
     },
     "metadata": {},
     "output_type": "display_data"
    }
   ],
   "source": [
    "data_corr=train.corr()\n",
    "np.ones_like(data_corr, dtype=bool)\n",
    "mask = np.triu(np.ones_like(data_corr, dtype=bool))\n",
    "\n",
    "fig, ax = plt.subplots(figsize=(10, 8))\n",
    "# mask\n",
    "mask = np.triu(np.ones_like(data_corr, dtype=bool))\n",
    "# adjust mask and df\n",
    "mask = mask[1:, :-1]\n",
    "corr = data_corr.iloc[1:,:-1].copy()\n",
    "# plot heatmap\n",
    "sns.heatmap(corr, mask=mask, annot=True, fmt=\".2f\", cmap='Blues',\n",
    "           vmin=-1, vmax=1, cbar_kws={\"shrink\": .8})\n",
    "# yticks\n",
    "plt.yticks(rotation=0)\n",
    "plt.show()"
   ]
  },
  {
   "cell_type": "code",
   "execution_count": 36,
   "id": "0c282e1f",
   "metadata": {},
   "outputs": [
    {
     "data": {
      "text/plain": [
       "Employee ID             0\n",
       "Date of Joining         0\n",
       "Gender                  0\n",
       "Company Type            0\n",
       "WFH Setup Available     0\n",
       "Designation             0\n",
       "Resource Allocation     0\n",
       "Mental Fatigue Score    0\n",
       "dtype: int64"
      ]
     },
     "execution_count": 36,
     "metadata": {},
     "output_type": "execute_result"
    }
   ],
   "source": [
    "test.isnull().sum()"
   ]
  },
  {
   "cell_type": "code",
   "execution_count": 49,
   "id": "a6c43207",
   "metadata": {},
   "outputs": [],
   "source": [
    "test['Gender']=pd.Categorical(test['Gender'])\n",
    "d1 = dict(enumerate(test['Gender'].cat.categories))\n",
    "test['Gender']=test.Gender.cat.codes\n",
    "\n",
    "employee=test['Employee ID']"
   ]
  },
  {
   "cell_type": "code",
   "execution_count": 30,
   "id": "0b072ca4",
   "metadata": {},
   "outputs": [],
   "source": [
    "from sklearn import linear_model"
   ]
  },
  {
   "cell_type": "code",
   "execution_count": 44,
   "id": "2dabda52",
   "metadata": {},
   "outputs": [],
   "source": [
    "y = train['Burn Rate']\n",
    "X = train[['Gender','Designation','Resource Allocation', 'Mental Fatigue Score']]"
   ]
  },
  {
   "cell_type": "code",
   "execution_count": 45,
   "id": "1201c99e",
   "metadata": {},
   "outputs": [
    {
     "data": {
      "text/plain": [
       "0.8693162364648909"
      ]
     },
     "execution_count": 45,
     "metadata": {},
     "output_type": "execute_result"
    }
   ],
   "source": [
    "regr = linear_model.LinearRegression()\n",
    "regr.fit(X, y)\n",
    "regr.score(X,y)"
   ]
  },
  {
   "cell_type": "code",
   "execution_count": 46,
   "id": "37a1b3a4",
   "metadata": {},
   "outputs": [
    {
     "data": {
      "text/plain": [
       "array([0.00718738, 0.00842785, 0.03231166, 0.06759411])"
      ]
     },
     "execution_count": 46,
     "metadata": {},
     "output_type": "execute_result"
    }
   ],
   "source": [
    "regr.coef_"
   ]
  },
  {
   "cell_type": "code",
   "execution_count": 47,
   "id": "02ef9ad9",
   "metadata": {},
   "outputs": [
    {
     "data": {
      "text/plain": [
       "array([0.59694676, 0.32259868, 0.4094136 , ..., 0.81404195, 0.57727954,\n",
       "       0.11472539])"
      ]
     },
     "execution_count": 47,
     "metadata": {},
     "output_type": "execute_result"
    }
   ],
   "source": [
    "X_Test = test[['Gender','Designation','Resource Allocation', 'Mental Fatigue Score']]\n",
    "prediction = regr.predict(X_Test)\n",
    "prediction"
   ]
  },
  {
   "cell_type": "code",
   "execution_count": 50,
   "id": "1134b875",
   "metadata": {},
   "outputs": [],
   "source": [
    "data_submission=pd.DataFrame({\n",
    "    'Employee ID': employee,\n",
    "    'Burn Rate': prediction\n",
    "})"
   ]
  },
  {
   "cell_type": "code",
   "execution_count": 51,
   "id": "211820b8",
   "metadata": {},
   "outputs": [],
   "source": [
    "data_submission.to_csv(\"output.csv\",index=False)"
   ]
  },
  {
   "cell_type": "code",
   "execution_count": null,
   "id": "8e8c5eb0",
   "metadata": {},
   "outputs": [],
   "source": []
  }
 ],
 "metadata": {
  "kernelspec": {
   "display_name": "Python 3 (ipykernel)",
   "language": "python",
   "name": "python3"
  },
  "language_info": {
   "codemirror_mode": {
    "name": "ipython",
    "version": 3
   },
   "file_extension": ".py",
   "mimetype": "text/x-python",
   "name": "python",
   "nbconvert_exporter": "python",
   "pygments_lexer": "ipython3",
   "version": "3.9.13"
  }
 },
 "nbformat": 4,
 "nbformat_minor": 5
}
